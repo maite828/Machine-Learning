{
  "nbformat": 4,
  "nbformat_minor": 0,
  "metadata": {
    "colab": {
      "name": "Linear_Regression.ipynb",
      "provenance": [],
      "authorship_tag": "ABX9TyP/nxFkUsVQNuPgO8T7ycSx",
      "include_colab_link": true
    },
    "kernelspec": {
      "name": "python3",
      "display_name": "Python 3"
    },
    "language_info": {
      "name": "python"
    }
  },
  "cells": [
    {
      "cell_type": "markdown",
      "metadata": {
        "id": "view-in-github",
        "colab_type": "text"
      },
      "source": [
        "<a href=\"https://colab.research.google.com/github/maite828/Machine-Learning/blob/main/Linear_Regression.ipynb\" target=\"_parent\"><img src=\"https://colab.research.google.com/assets/colab-badge.svg\" alt=\"Open In Colab\"/></a>"
      ]
    },
    {
      "cell_type": "code",
      "execution_count": null,
      "metadata": {
        "id": "FmrVCEd7Kl6h"
      },
      "outputs": [],
      "source": [
        "import numpy as np\n",
        "import matplotlib.pyplot as plt"
      ]
    },
    {
      "cell_type": "markdown",
      "source": [
        "## Cargamos Dataset:\n",
        "\n"
      ],
      "metadata": {
        "id": "FUgcHy0-NYrv"
      }
    },
    {
      "cell_type": "code",
      "source": [
        "from sklearn import datasets\n",
        "boston = datasets.load_boston()"
      ],
      "metadata": {
        "id": "0jE6pu_LPky7"
      },
      "execution_count": null,
      "outputs": []
    },
    {
      "cell_type": "code",
      "source": [
        "print(boston.DESCR)"
      ],
      "metadata": {
        "colab": {
          "base_uri": "https://localhost:8080/"
        },
        "id": "grGlEY5uXi1I",
        "outputId": "58d4d794-e812-49d4-facd-8a7c2ba7e604"
      },
      "execution_count": null,
      "outputs": [
        {
          "output_type": "stream",
          "name": "stdout",
          "text": [
            ".. _boston_dataset:\n",
            "\n",
            "Boston house prices dataset\n",
            "---------------------------\n",
            "\n",
            "**Data Set Characteristics:**  \n",
            "\n",
            "    :Number of Instances: 506 \n",
            "\n",
            "    :Number of Attributes: 13 numeric/categorical predictive. Median Value (attribute 14) is usually the target.\n",
            "\n",
            "    :Attribute Information (in order):\n",
            "        - CRIM     per capita crime rate by town\n",
            "        - ZN       proportion of residential land zoned for lots over 25,000 sq.ft.\n",
            "        - INDUS    proportion of non-retail business acres per town\n",
            "        - CHAS     Charles River dummy variable (= 1 if tract bounds river; 0 otherwise)\n",
            "        - NOX      nitric oxides concentration (parts per 10 million)\n",
            "        - RM       average number of rooms per dwelling\n",
            "        - AGE      proportion of owner-occupied units built prior to 1940\n",
            "        - DIS      weighted distances to five Boston employment centres\n",
            "        - RAD      index of accessibility to radial highways\n",
            "        - TAX      full-value property-tax rate per $10,000\n",
            "        - PTRATIO  pupil-teacher ratio by town\n",
            "        - B        1000(Bk - 0.63)^2 where Bk is the proportion of black people by town\n",
            "        - LSTAT    % lower status of the population\n",
            "        - MEDV     Median value of owner-occupied homes in $1000's\n",
            "\n",
            "    :Missing Attribute Values: None\n",
            "\n",
            "    :Creator: Harrison, D. and Rubinfeld, D.L.\n",
            "\n",
            "This is a copy of UCI ML housing dataset.\n",
            "https://archive.ics.uci.edu/ml/machine-learning-databases/housing/\n",
            "\n",
            "\n",
            "This dataset was taken from the StatLib library which is maintained at Carnegie Mellon University.\n",
            "\n",
            "The Boston house-price data of Harrison, D. and Rubinfeld, D.L. 'Hedonic\n",
            "prices and the demand for clean air', J. Environ. Economics & Management,\n",
            "vol.5, 81-102, 1978.   Used in Belsley, Kuh & Welsch, 'Regression diagnostics\n",
            "...', Wiley, 1980.   N.B. Various transformations are used in the table on\n",
            "pages 244-261 of the latter.\n",
            "\n",
            "The Boston house-price data has been used in many machine learning papers that address regression\n",
            "problems.   \n",
            "     \n",
            ".. topic:: References\n",
            "\n",
            "   - Belsley, Kuh & Welsch, 'Regression diagnostics: Identifying Influential Data and Sources of Collinearity', Wiley, 1980. 244-261.\n",
            "   - Quinlan,R. (1993). Combining Instance-Based and Model-Based Learning. In Proceedings on the Tenth International Conference of Machine Learning, 236-243, University of Massachusetts, Amherst. Morgan Kaufmann.\n",
            "\n"
          ]
        }
      ]
    },
    {
      "cell_type": "code",
      "source": [
        "boston.feature_names"
      ],
      "metadata": {
        "colab": {
          "base_uri": "https://localhost:8080/"
        },
        "id": "_DwR6JDPRCrZ",
        "outputId": "9de7a532-ffcf-43e3-a783-dc470d60adf9"
      },
      "execution_count": null,
      "outputs": [
        {
          "output_type": "execute_result",
          "data": {
            "text/plain": [
              "array(['CRIM', 'ZN', 'INDUS', 'CHAS', 'NOX', 'RM', 'AGE', 'DIS', 'RAD',\n",
              "       'TAX', 'PTRATIO', 'B', 'LSTAT'], dtype='<U7')"
            ]
          },
          "metadata": {},
          "execution_count": 176
        }
      ]
    },
    {
      "cell_type": "markdown",
      "source": [
        "## Obtenemos la media de la variables independiente: target"
      ],
      "metadata": {
        "id": "VjoToMRSkp0p"
      }
    },
    {
      "cell_type": "code",
      "source": [
        "boston.target.mean()"
      ],
      "metadata": {
        "colab": {
          "base_uri": "https://localhost:8080/"
        },
        "id": "MHfyefpxRdoA",
        "outputId": "033fb168-e1f2-4c31-f178-63d72e4bcc10"
      },
      "execution_count": null,
      "outputs": [
        {
          "output_type": "execute_result",
          "data": {
            "text/plain": [
              "22.532806324110677"
            ]
          },
          "metadata": {},
          "execution_count": 177
        }
      ]
    },
    {
      "cell_type": "markdown",
      "source": [
        "## Convertimos a matrices con mumpy: tenemos (2, 506)"
      ],
      "metadata": {
        "id": "rCGubHnoUCcz"
      }
    },
    {
      "cell_type": "code",
      "source": [
        "X = np.array(boston.data[:,5])\n",
        "Y = np.array(boston.target)\n",
        "\n",
        "plt.scatter(X, Y, alpha=0.3)"
      ],
      "metadata": {
        "colab": {
          "base_uri": "https://localhost:8080/",
          "height": 283
        },
        "id": "chsZVU4ASgtJ",
        "outputId": "4ca21cb1-2a5c-4e09-95d3-396f03e0a7f8"
      },
      "execution_count": null,
      "outputs": [
        {
          "output_type": "execute_result",
          "data": {
            "text/plain": [
              "<matplotlib.collections.PathCollection at 0x7fb6d97c0190>"
            ]
          },
          "metadata": {},
          "execution_count": 178
        },
        {
          "output_type": "display_data",
          "data": {
            "text/plain": [
              "<Figure size 432x288 with 1 Axes>"
            ],
            "image/png": "[encoded data removed]"
          },
          "metadata": {
            "needs_background": "light"
          }
        }
      ]
    },
    {
      "cell_type": "markdown",
      "source": [
        "#### Añadimos columna de unos para termino independiente, cuando se hace la multiplicación esa columna de unos hace que la primera parte de la columna beta no se quede sin valores y la trasponemos queremos conseguir (506,2)"
      ],
      "metadata": {
        "id": "JF4rrnKnnmxP"
      }
    },
    {
      "cell_type": "code",
      "source": [
        "X = np.array([np.ones(boston.target.shape[0]), X]).T\n",
        "print(X)"
      ],
      "metadata": {
        "colab": {
          "base_uri": "https://localhost:8080/"
        },
        "id": "952yNM8-nOmr",
        "outputId": "3a6dba79-7e99-4cdb-e251-492aafc9e51f"
      },
      "execution_count": null,
      "outputs": [
        {
          "output_type": "stream",
          "name": "stdout",
          "text": [
            "[[1.    6.575]\n",
            " [1.    6.421]\n",
            " [1.    7.185]\n",
            " ...\n",
            " [1.    6.976]\n",
            " [1.    6.794]\n",
            " [1.    6.03 ]]\n"
          ]
        }
      ]
    },
    {
      "cell_type": "markdown",
      "source": [
        "#### Definimos la matrix traspuesta de X, y la multiplicamos por X, nos interesa la multiplicación matricial, usamos el paquete de algebra lineal y luego caculamos la inversa con nlp linalg.inv\n",
        "# Formula minimizar el error cuadrático medio (MCO): \n",
        "$\\beta = (X^{T}X)^{-1}X^{T}Y$\n",
        "\n",
        "#### Tenemos que encontrarnos ahora para saber que está bien con 2 elemntos:\n",
        "El elemnto independiente de nuestra linea y la pendiente nuestra linea"
      ],
      "metadata": {
        "id": "vUuU3zhTrkjP"
      }
    },
    {
      "cell_type": "code",
      "source": [
        "B = np.linalg.inv(X.T @ X) @ X.T @ Y\n",
        "B"
      ],
      "metadata": {
        "colab": {
          "base_uri": "https://localhost:8080/"
        },
        "id": "-cERBNEYsA4k",
        "outputId": "9a5f2cc2-6267-4e8b-809f-476ee6aa8b5d"
      },
      "execution_count": null,
      "outputs": [
        {
          "output_type": "execute_result",
          "data": {
            "text/plain": [
              "array([-34.67062078,   9.10210898])"
            ]
          },
          "metadata": {},
          "execution_count": 183
        }
      ]
    },
    {
      "cell_type": "markdown",
      "source": [
        "#### -34.67062078 representa el punto en el eje Y en el que se corta cuando X es igual a 0\n",
        "#### 9.10210898 tenemos el valor de la pendiente y lo vemos como un valor directo y parece que tiene sentido porque nos indica cada incremento en una unidad del número medio de habitaciones con incremento de 9 unidades del valor de la vivienda"
      ],
      "metadata": {
        "id": "733UNjt-yqOP"
      }
    },
    {
      "cell_type": "code",
      "source": [
        "plt.plot([4, 9], [B[0] + B[1] * 4, B[0] + B[1] * 9], c=\"red\")"
      ],
      "metadata": {
        "colab": {
          "base_uri": "https://localhost:8080/",
          "height": 283
        },
        "id": "XI7txfLByeOk",
        "outputId": "e7c5e340-ab93-4df7-c7c2-6c82ad955918"
      },
      "execution_count": null,
      "outputs": [
        {
          "output_type": "execute_result",
          "data": {
            "text/plain": [
              "[<matplotlib.lines.Line2D at 0x7fb6d69af150>]"
            ]
          },
          "metadata": {},
          "execution_count": 185
        },
        {
          "output_type": "display_data",
          "data": {
            "text/plain": [
              "<Figure size 432x288 with 1 Axes>"
            ],
            "image/png": "[encoded data removed]"
          },
          "metadata": {
            "needs_background": "light"
          }
        }
      ]
    },
    {
      "cell_type": "code",
      "source": [
        ""
      ],
      "metadata": {
        "id": "0mcFKf350AA5"
      },
      "execution_count": null,
      "outputs": []
    }
  ]
}